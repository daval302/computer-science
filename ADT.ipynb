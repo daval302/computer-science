{
 "cells": [
  {
   "cell_type": "markdown",
   "metadata": {
    "hideCode": false,
    "hidePrompt": false
   },
   "source": [
    "# Abstact Data Type"
   ]
  },
  {
   "cell_type": "markdown",
   "metadata": {
    "hideCode": false,
    "hidePrompt": false
   },
   "source": [
    "In general, we can talk about data as e set of values distribuited within certain rules, or better said *\"The rapresentation of the values\"* are set to be accessed in a certain way so that we can abstract data to be used on purpose: here it comes the ecapsulation concept that helps us to create a complex systems working both indipendently and together, where methods can be treat appart and the system is managed by a model, so that called \"An Abstract Model\"\n",
    "So as many programmers already know here some Abstract Data Type (ADT) been used mainly where data are manipulated:\n",
    "- List\n",
    "- Stack\n",
    "- Queue\n",
    "- Tree"
   ]
  },
  {
   "cell_type": "markdown",
   "metadata": {
    "hideCode": false,
    "hidePrompt": false
   },
   "source": [
    "## List\n",
    "It is a particular array where elements are always sorted due to the following two methods:\n",
    "- get(index) : get an i-element and shift the arrary\n",
    "- push(element) : make an insertion in the ordered position and shift the array\n",
    "\n",
    "Here an impletation in python :"
   ]
  },
  {
   "cell_type": "code",
   "execution_count": 2,
   "metadata": {
    "hideCode": false,
    "hidePrompt": true
   },
   "outputs": [
    {
     "name": "stdout",
     "output_type": "stream",
     "text": [
      "V before: [1, 2, 4, 5, 6]\n",
      "Get element 2: 4\n",
      "V after: [1, 2, 5, 6]\n"
     ]
    }
   ],
   "source": [
    "class List:\n",
    "    def __init__(self):\n",
    "        self.len = 0\n",
    "        self.array = []\n",
    "    def get(self, index):\n",
    "        c = self.array[index]\n",
    "        self.array = self.array[:index] + self.array[index+1:]\n",
    "        self.len -= 1\n",
    "        return c\n",
    "        \n",
    "    def push(self, element):\n",
    "        if self.len == 0:\n",
    "            self.array.append(element)\n",
    "            self.len += 1\n",
    "        else:\n",
    "            j = 0\n",
    "            while j < self.len:\n",
    "                if element < self.array[j]:\n",
    "                    break\n",
    "                else:\n",
    "                    j += 1\n",
    "            self.array.append(0)\n",
    "            for k in range(self.len, j, -1):\n",
    "                self.array[k] = self.array[k-1]\n",
    "            self.array[j] = element\n",
    "            self.len += 1\n",
    "\n",
    "V = List()\n",
    "V.push(2); V.push(4); V.push(6); V.push(1); V.push(5)\n",
    "index = 2\n",
    "print(\"V before: \" + str(V.array) )\n",
    "print(\"Get element \" + str(index)+ \": \" + str(V.get(index)) )\n",
    "print(\"V after: \" + str(V.array) )"
   ]
  },
  {
   "cell_type": "markdown",
   "metadata": {
    "collapsed": true,
    "hideCode": false,
    "hidePrompt": false
   },
   "source": [
    "As you can see we have abstracted a List in away that from the user of this ADT should use only *get* and *psuh* methods in order to manipulate data inside the list. This is what abstraction can help for us because the user can manipulate data on purpose, wich purpose ? I show how ADT help us on purpose, but first let's tak e a look to other basci ADT."
   ]
  },
  {
   "cell_type": "markdown",
   "metadata": {
    "hideCode": false,
    "hidePrompt": false
   },
   "source": [
    "## Stack\n",
    "This is largely used in many systems most of them to holding data to be manipulated as an afterthought. For example in run-time the state of the main running function, goes to be added to the stack when another sub-rutine is called, what happens is that when the sub-rutine return or end running, the main execution of the program goes back to the mian function loading back the state saved at run-time. It is also used to evaluate a math expression nested one by one between parenthesis: the main expression goes to evaluate when another sub-expression has to be evaluated, so basiclly it store the main expresion into the stack, than evaluate the sub-expression or store another sub-expression into the stack until there are no more sub-expression so that it pop out from the stack the last added, evaluate that, pop out from the stack an upper expression replacing the previous result where the sub-expression was placed, and so on to the main expression.\n",
    "\n",
    "Here an example of implementation of the stack in python:"
   ]
  },
  {
   "cell_type": "code",
   "execution_count": 3,
   "metadata": {
    "hideCode": false,
    "hidePrompt": true
   },
   "outputs": [],
   "source": [
    "class Stack():\n",
    "    def __init__(self):\n",
    "        self.storage = []\n",
    "        self.len = 0\n",
    "    def empty(self):\n",
    "        return self.len == 0\n",
    "    def push(self, element):\n",
    "        self.len += 1\n",
    "        self.storage.append(element)\n",
    "    def pop(self):\n",
    "        self.len -= 1\n",
    "        return self.storage.pop()\n",
    "    def flush(self):\n",
    "        self.__init__()"
   ]
  },
  {
   "cell_type": "code",
   "execution_count": 4,
   "metadata": {
    "hideCode": false,
    "hidePrompt": true
   },
   "outputs": [
    {
     "name": "stdout",
     "output_type": "stream",
     "text": [
      "push(1) => 1\n",
      "push(2) => 2\n",
      "push(3) => 3\n",
      "push(4) => 4\n",
      "pop() => 4\n",
      "pop() => 3\n",
      "pop() => 2\n",
      "pop() => 1\n"
     ]
    }
   ],
   "source": [
    "S = Stack()\n",
    "for j in range(1,5):\n",
    "    S.push(j)\n",
    "    print( \"push(\" + str(j) + \") => \"  + str(j) )\n",
    "while not S.empty():\n",
    "    print(\"pop() => \" + str(S.pop()) )"
   ]
  },
  {
   "cell_type": "markdown",
   "metadata": {
    "hideCode": false,
    "hidePrompt": false
   },
   "source": [
    "As you can see the class give to us two main methods: pop and push to manipulate the data inside the stack. Pushing or popping elements follows a First-In-First-Out (FIFO) policy.\n",
    "\n",
    "Lets write a simple math-evaluator where the stack is going be usefull to evaluate a math expression:\n",
    "\n",
    "First we define a recursive function to parse this simple math-expression with a deep level of 4: $(2+(3*(4-(3*2)+7)-1)/2)-9$"
   ]
  },
  {
   "cell_type": "code",
   "execution_count": 5,
   "metadata": {
    "hideCode": false,
    "hidePrompt": true
   },
   "outputs": [],
   "source": [
    "def parse(math, stack, rep_char):\n",
    "    # stop recursing\n",
    "    if len(math) == 0:\n",
    "        return \"\"\n",
    "\n",
    "    # normalization math ~ (...)\n",
    "    if math[0] == '(' and math[-1] == ')':\n",
    "        math = math[1:-1]\n",
    "    state = 'S'\n",
    "    b = \"\"\n",
    "    n_exp = 0\n",
    "    j = 0\n",
    "    give = \"\"\n",
    "    replacement = False\n",
    "    while True:\n",
    "        s = math[j]\n",
    "        if state == 'S':\n",
    "            if s == '(':\n",
    "                state = 'B'\n",
    "                n_exp += 1\n",
    "            else:\n",
    "                state = 'A'\n",
    "\n",
    "        elif state == 'A':\n",
    "            if s == '(':\n",
    "                state = 'B'\n",
    "                n_exp += 1\n",
    "            elif s == ')' :\n",
    "                state = 'A'\n",
    "                n_exp -= 1\n",
    "                if n_exp == 0:\n",
    "                    replacement = True\n",
    "                    b += ')'\n",
    "                    stack.push(math.replace(b, rep_char))\n",
    "                    give = b\n",
    "                    b = \"\"\n",
    "            else:\n",
    "                state = 'A'\n",
    "\n",
    "        elif state == 'B':\n",
    "            if s == '(':\n",
    "                state = 'B'\n",
    "                n_exp += 1\n",
    "            elif s == ')':\n",
    "                state = 'A'\n",
    "                n_exp -= 1\n",
    "                if n_exp == 0:\n",
    "                    replacement = True\n",
    "                    b += ')'\n",
    "                    stack.push(math.replace(b, rep_char))\n",
    "                    give = b\n",
    "                    b = \"\"\n",
    "            else:\n",
    "                state = 'B'\n",
    "\n",
    "        elif state == 'E':\n",
    "            break\n",
    "        j += 1\n",
    "        if n_exp > 0:\n",
    "            b += s\n",
    "        if j == len(math):\n",
    "            break\n",
    "    if replacement == False:\n",
    "        S.push(math)\n",
    "    return parse(give, S, rep_char)"
   ]
  },
  {
   "cell_type": "markdown",
   "metadata": {
    "hideCode": false,
    "hidePrompt": false
   },
   "source": [
    "Basically this function stacks sub-expression one by one meanwhile it reach the deepest sub-expression in the string. It scans char by char the string throwing between 3 states:\n",
    "- **S** : START\n",
    "- **A** : first and last deep recurring with relative operations\n",
    "- **B** : more than one deep recurring operations\n",
    "\n",
    "It works as *Turing Machine* as operations of staccking and *char-substitution* throwing among *states*.\n",
    "\n",
    "How to use it ? First we flush the stack in order to use it as new, than we write the math expression and than we parse the expression:\n",
    "\n",
    "*Note: The Replacement Character rep_char will be used later to get back sub-expression for their evaluation*"
   ]
  },
  {
   "cell_type": "code",
   "execution_count": 6,
   "metadata": {
    "hideCode": false,
    "hidePrompt": true
   },
   "outputs": [
    {
     "name": "stdout",
     "output_type": "stream",
     "text": [
      "Stack after parsing: ['R-9', '2+R/2', '3*R-1', '4-R+7', '3*2']\n"
     ]
    }
   ],
   "source": [
    "S.flush()\n",
    "rep_char = 'R'\n",
    "math_expression = \"(2+(3*(4-(3*2)+7)-1)/2)-9\"\n",
    "parse(math_expression, S, rep_char)\n",
    "print(\"Stack after parsing: \" + str(S.storage) )"
   ]
  },
  {
   "cell_type": "markdown",
   "metadata": {
    "hideCode": false,
    "hidePrompt": false
   },
   "source": [
    "As you can see, the deepest level reachs the expression $(3*2)$ wich will be the first sub-math-expression to be evaluated, than to be replaced to the *Replacement Character* on the next value held in the stack.\n",
    "And now the magic of getting back the expressions, use the replace-character and evaluate the whole expression with a nice while loop"
   ]
  },
  {
   "cell_type": "code",
   "execution_count": 7,
   "metadata": {
    "hideCode": false,
    "hidePrompt": true
   },
   "outputs": [
    {
     "name": "stdout",
     "output_type": "stream",
     "text": [
      "Char Replacement on stack: 'R'\n",
      "Stack Operation on : 3*2\n",
      "Stack Operation on : 4-6+7\n",
      "Stack Operation on : 3*5-1\n",
      "Stack Operation on : 2+14/2\n",
      "Stack Operation on : 9.0-9\n",
      "--- Result-->> [[0.0]]\n"
     ]
    }
   ],
   "source": [
    "print(\"Char Replacement on stack: \" + '\\''+rep_char+'\\'')\n",
    "ris = \"\"\n",
    "while True:\n",
    "    op = S.pop()\n",
    "    if rep_char not in op:\n",
    "        ris = str(eval(op))\n",
    "    else:\n",
    "        op = op.replace(rep_char, ris)\n",
    "        ris = str(eval(op))\n",
    "    print(\"Stack Operation on : \" + op)\n",
    "    if S.empty():\n",
    "        break\n",
    "\n",
    "print(\"--- Result-->> \"+'[['+ris+']]')"
   ]
  },
  {
   "cell_type": "markdown",
   "metadata": {
    "hideCode": false,
    "hidePrompt": false
   },
   "source": [
    "Ok, but all this stuf could be done simply doing :"
   ]
  },
  {
   "cell_type": "code",
   "execution_count": 8,
   "metadata": {
    "hideCode": false,
    "hidePrompt": true
   },
   "outputs": [
    {
     "name": "stdout",
     "output_type": "stream",
     "text": [
      "Fast Result: 0.0\n"
     ]
    }
   ],
   "source": [
    "print( \"Fast Result: \" + str(eval(math_expression)) )"
   ]
  },
  {
   "cell_type": "markdown",
   "metadata": {
    "hideCode": false,
    "hidePrompt": false
   },
   "source": [
    "As you can see it produce the same result as the *eval()* funtion basically does the same thing, but this article is just to show how a stack and recursive function can be used, further more the algorithms does not work for consecutive expression to be stacced. \n",
    "If we want ot be more speific we should be able to build a complete parser where we need to properly get numbers and operator to be evaluate, so basically the same algorithm without using *eval()* and *.replace()* functions.\n",
    "\n",
    "Back to the use of the stack, think for example when you navigate on your preferred browser: when you trigger the browser-event to open a link to another page, a new record of the current page is allocated in the *stack pages*, so that when you press the *BACK* button of your browser, the stack pop out the previous page and so on ..."
   ]
  },
  {
   "cell_type": "markdown",
   "metadata": {},
   "source": [
    "## Tree, set, dictionary\n",
    "Trees are widly used for example when:\n",
    "- The operating system needs to store files in a folder\n",
    "- An html page needs to render or select specific html element inside the document\n",
    "- Any OO compiler needs to parse nested class of a program\n",
    "- A process returns and have to give back control to a the previous process\n",
    "- the function *find* in linux terminal needs to check recursively for a file within folders\n",
    "- ...\n",
    "\n",
    "The main features of trees are :\n",
    "- the **Root**\n",
    "- the **Height**\n",
    "- each element but the root has a parent element\n",
    "- each element can have one or more  child element\n",
    "\n",
    "A particular tree is the binary tree where each node have only two children : *left-child* and *right-child*.\n",
    "\n",
    "Another very similar ADT, is the\n",
    "**Graph**, but it differs because every element can get linked to any other element indipendent from parent and child relashions.\n",
    "\n",
    "For example all the data stored by *Facebook* is representated by a Graph where each element is identified by an id and it contains varius *key-value* elements and each node of the graph can get relation with any other element: for example when two account become friends, the *friend-list* of each one   gets the id account of the other and viceversa so that they have enstablished a relation by key-values of rach other.\n",
    "\n",
    "Binary trees are used for searching algorithms, for example in *\"binary search\"* each tree element can have one or two child, so that a vector or array get acquired in a shape of a tree where each node is an element of the array following the policy that all right child is grather than the left child so that the minimum is on the very left end of the tree and the max is on the very right end of the tree.\n",
    "\n",
    "ADT can be simply a *set* which is an array where you can put and get elements without any relation appart of they are elements of the same type, than you can check as a set that an element *\"belongs\"* to the set; elements are unique within a set, they do not admit duplicates.\n",
    "\n",
    "A very usefull ADT is a dictionary: it is  a set of *key-value* data where each element has fast access by a unique key. Usually dictionaries are implemented at low level to be really fast getting access on element by an id as a result of a simple math operation that avoid scanning big array of data. They differ from sets because they can contain element of any type."
   ]
  },
  {
   "cell_type": "code",
   "execution_count": null,
   "metadata": {},
   "outputs": [],
   "source": []
  }
 ],
 "metadata": {
  "hide_code_all_hidden": false,
  "kernelspec": {
   "display_name": "Python 3",
   "language": "python",
   "name": "python3"
  },
  "language_info": {
   "codemirror_mode": {
    "name": "ipython",
    "version": 3
   },
   "file_extension": ".py",
   "mimetype": "text/x-python",
   "name": "python",
   "nbconvert_exporter": "python",
   "pygments_lexer": "ipython3",
   "version": "3.6.1"
  }
 },
 "nbformat": 4,
 "nbformat_minor": 2
}
