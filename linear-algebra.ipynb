{
 "cells": [
  {
   "cell_type": "markdown",
   "metadata": {},
   "source": [
    "# The geometry of linear equation\n",
    "\n",
    "Use matrix form to study linear equations and relative pircture of the matrix\n",
    "\n",
    "For example: \n",
    "\n",
    "\\begin{align}\n",
    "2x &-y &=0 \\\\ \n",
    "-x &+2y &=3\n",
    "\\end{align}\n",
    "\n",
    "It can be rapresented as a matrix  2 rows X 2 colums:\n",
    "\n",
    "$$\n",
    "\\begin{bmatrix}\n",
    "2 & -1 \\\\\n",
    "-1 & 2\n",
    "\\end{bmatrix} \\circ\n",
    "\\begin{bmatrix}\n",
    "x \\\\\n",
    "y\n",
    "\\end{bmatrix} = \n",
    "\\begin{bmatrix}\n",
    "0 \\\\\n",
    "3\n",
    "\\end{bmatrix}\n",
    "$$"
   ]
  },
  {
   "cell_type": "markdown",
   "metadata": {},
   "source": [
    "I can not resist writing the matrix form that can be called at this point a **Linear Equation**\n",
    "\n",
    "$$ A \\cdot X = b $$"
   ]
  },
  {
   "cell_type": "markdown",
   "metadata": {},
   "source": [
    "Let's write the **Row Picture** of the two equation and the solution in the poiunt *P(1,2)* as the intersection of the the lines."
   ]
  },
  {
   "cell_type": "code",
   "execution_count": 18,
   "metadata": {
    "hideCode": false
   },
   "outputs": [
    {
     "data": {
      "image/png": "[encoded data removed]",
      "text/plain": [
       "<matplotlib.figure.Figure at 0x262f4917dd8>"
      ]
     },
     "metadata": {},
     "output_type": "display_data"
    }
   ],
   "source": [
    "import numpy as np\n",
    "import matplotlib.pyplot as plt\n",
    "plt.xlim(-5, 5)\n",
    "plt.ylim(-5, 5)\n",
    "x = np.linspace(-5,5, 10)\n",
    "plt.quiver([0, -5], [-5, 0], [0, 10], [10, 0], angles='xy', scale_units='xy', scale=1)\n",
    "plt.plot(x, 2 * x, 'r-', label=\"2x - y = 0\")\n",
    "plt.plot(x, 0.5 * x + 1.5, 'b-', label = \"-x + 2y = 3\")\n",
    "plt.scatter(1,2, c='blue', marker='o')\n",
    "plt.annotate('P (1,2)', xy=(1, 2), xytext=(1, 1.5))\n",
    "plt.legend()\n",
    "plt.show()"
   ]
  },
  {
   "cell_type": "markdown",
   "metadata": {},
   "source": [
    "Now let's weite the column picture:"
   ]
  },
  {
   "cell_type": "markdown",
   "metadata": {},
   "source": [
    "$$\n",
    "X \n",
    "\\begin{bmatrix}\n",
    "2  \\\\\n",
    "-1 \n",
    "\\end{bmatrix} +\n",
    "Y\n",
    "\\begin{bmatrix}\n",
    "-1 \\\\\n",
    "2\n",
    "\\end{bmatrix} = \n",
    "\\begin{bmatrix}\n",
    "0 \\\\\n",
    "3\n",
    "\\end{bmatrix}\n",
    "$$\n",
    "\n",
    "And this form is called **Lienar combination of columns** Let's write the **Column Picture**"
   ]
  },
  {
   "cell_type": "code",
   "execution_count": 40,
   "metadata": {},
   "outputs": [
    {
     "data": {
      "image/png": "[encoded data removed]",
      "text/plain": [
       "<matplotlib.figure.Figure at 0x262f49ad588>"
      ]
     },
     "metadata": {},
     "output_type": "display_data"
    }
   ],
   "source": [
    "plt.close()\n",
    "plt.xlim(-3, 3)\n",
    "plt.ylim(-3, 3)\n",
    "plt.quiver([0, -3], [-3, 0], [0, 6], [6, 0], angles='xy', scale_units='xy', scale=1)\n",
    "plt.quiver([0, 0], [0, 0], [2, -1], [-1, 2], color='b',angles='xy', scale_units='xy', scale=1)\n",
    "plt.show()"
   ]
  },
  {
   "cell_type": "code",
   "execution_count": null,
   "metadata": {},
   "outputs": [],
   "source": []
  }
 ],
 "metadata": {
  "kernelspec": {
   "display_name": "Python 3",
   "language": "python",
   "name": "python3"
  },
  "language_info": {
   "codemirror_mode": {
    "name": "ipython",
    "version": 3
   },
   "file_extension": ".py",
   "mimetype": "text/x-python",
   "name": "python",
   "nbconvert_exporter": "python",
   "pygments_lexer": "ipython3",
   "version": "3.6.1"
  }
 },
 "nbformat": 4,
 "nbformat_minor": 2
}
