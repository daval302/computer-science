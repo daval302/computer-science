{
 "cells": [
  {
   "cell_type": "markdown",
   "metadata": {
    "hideCode": false,
    "hidePrompt": false
   },
   "source": [
    "# Sorting algorithms\n",
    "\n",
    "Here some of the algorithms been used in almost everywhere in databases, operating system, servers, client software like browsers, android, IOS, Windows Phone, ect ..., where data are manipulated as well its rapresentation from the very simple one like sequence of couples of *key-value* to structured data with nested structures, methods, functions, propterties.\n",
    "\n",
    "## Selection sort\n",
    "Suppose for example a vector of 10 elements :\n"
   ]
  },
  {
   "cell_type": "code",
   "execution_count": 1,
   "metadata": {},
   "outputs": [],
   "source": [
    "# SOME IMPORTS FIRST\n",
    "import random, matplotlib.pyplot as plt, numpy as np\n",
    "\n",
    "def swap(s1 , s2):\n",
    "    return s2, s1"
   ]
  },
  {
   "cell_type": "code",
   "execution_count": 2,
   "metadata": {
    "hideCode": false,
    "hidePrompt": false,
    "scrolled": true
   },
   "outputs": [
    {
     "name": "stdout",
     "output_type": "stream",
     "text": [
      "[8, 1, 4, 2, 3, 6, 7, 5, 9]\n"
     ]
    }
   ],
   "source": [
    "vector = random.sample(range(1,10), 9)\n",
    "print(vector)"
   ]
  },
  {
   "cell_type": "markdown",
   "metadata": {
    "collapsed": true,
    "hideCode": false,
    "hidePrompt": false
   },
   "source": [
    "Lets write a function in python that return a new vector with the same elements all sorted like *[1,2,3,4,5,...]* assuming  repeted elemets"
   ]
  },
  {
   "cell_type": "code",
   "execution_count": 3,
   "metadata": {
    "hideCode": false,
    "hidePrompt": false,
    "scrolled": true
   },
   "outputs": [],
   "source": [
    "def selection_sort(v):\n",
    "    for i in range(0, len(vector) - 1):\n",
    "        pmin = i\n",
    "        for j in range(i+1, len(vector)):\n",
    "            if v[j] < v[pmin]:\n",
    "                pmin = j\n",
    "        if pmin != v[i]:\n",
    "            v[i], v[pmin] = swap(v[i], v[pmin])"
   ]
  },
  {
   "cell_type": "markdown",
   "metadata": {
    "hideCode": false,
    "hidePrompt": false
   },
   "source": [
    "It modifys the input vector in a sorted vector as follow :"
   ]
  },
  {
   "cell_type": "code",
   "execution_count": 4,
   "metadata": {
    "hideCode": false,
    "hidePrompt": false,
    "scrolled": true
   },
   "outputs": [
    {
     "name": "stdout",
     "output_type": "stream",
     "text": [
      "New Vector : [1, 2, 4, 3, 5, 6, 7, 8, 9]\n"
     ]
    }
   ],
   "source": [
    "selection_sort(vector)\n",
    "print(\"New Vector : \" + str(vector))"
   ]
  },
  {
   "cell_type": "markdown",
   "metadata": {
    "hideCode": false,
    "hidePrompt": false
   },
   "source": [
    "This algorithm is very inefficient because for any $n$ elements vector we have allways an $O(n^2)$ complessity, that means it has  a quadratic exponential complessity for a vector of $n$ elements for $n \\in \\mathbb{N}$\n",
    "Here it comes the computational cost: \n",
    "* first *for* loop scan $(n-1)$ elements\n",
    "* second *for* loop nested to the previus one scan the $(n-1)$ elements\n",
    "* The main instructions can be assumed to be for a total $\\sum_{i=1}^{n} (n-1)^2$\n",
    "* The relative function $f(x)=(n-1)^2$ behaves like $n^2$ for $n \\rightarrow +\\infty$\n",
    "* It make sense writing the algorithm has a complessity of $O(n^2)$"
   ]
  },
  {
   "cell_type": "markdown",
   "metadata": {
    "hideCode": false,
    "hidePrompt": false
   },
   "source": [
    "## Bubble Sort\n",
    "This algorithm is based on the idea of sorting the vector throwing a tuple (bubble) of elements where for each iteration elements with less value tend to throw at the begining of the the vector and elements with more value tend to throw to the end of the vector.\n",
    "Here a new vector :"
   ]
  },
  {
   "cell_type": "code",
   "execution_count": 5,
   "metadata": {
    "hideCode": false,
    "hidePrompt": false,
    "scrolled": true
   },
   "outputs": [
    {
     "name": "stdout",
     "output_type": "stream",
     "text": [
      "Vector : [5, 7, 8, 9, 4, 3, 1, 2, 6]\n"
     ]
    }
   ],
   "source": [
    "vector = random.sample(range(1,10), 9)\n",
    "print(\"Vector : \" + str(vector) )"
   ]
  },
  {
   "cell_type": "code",
   "execution_count": 6,
   "metadata": {
    "hideCode": false,
    "hidePrompt": false,
    "scrolled": true
   },
   "outputs": [
    {
     "name": "stdout",
     "output_type": "stream",
     "text": [
      "[1, 2, 3, 4, 5, 6, 7, 8, 9]\n"
     ]
    }
   ],
   "source": [
    "def bubble_sort(v):\n",
    "    while True:\n",
    "        swaps = 0\n",
    "        n = len(vector)\n",
    "        for j in range(0, n -1):\n",
    "            if v[j] > v[j+1]:\n",
    "                v[j], v[j+1] = swap(v[j], v[j+1])\n",
    "                swaps += 1\n",
    "        if swaps == 0:\n",
    "            break\n",
    "        n -= 1\n",
    "bubble_sort(vector)\n",
    "print(vector)"
   ]
  },
  {
   "cell_type": "markdown",
   "metadata": {
    "collapsed": true,
    "hideCode": false,
    "hidePrompt": false
   },
   "source": [
    "Note that it is optimized at the last line because we asssume that after the first loop, the max value element throws at the end of the vector, recursively we can immagine that this happens for each loop where gradually the vector become more and more samller.\n",
    "At this point we can redefine the function in order to make a counting of how many simple instructions the algorithm does for a single vector of elements, but first lets formalize 2 use cases in computational cost for a vector $V$:\n",
    "- $O(n) : \\forall v_i \\in V : v_i < v_{i+1}, i \\in [1,n]$\n",
    "- $O(n^2) : \\exists | \\{v_1, v_n\\} \\in V : $ to be sorted on their complementary $\\overline{i} \\in [1,n]$ "
   ]
  },
  {
   "cell_type": "code",
   "execution_count": 7,
   "metadata": {
    "hideCode": false,
    "hidePrompt": false,
    "scrolled": true
   },
   "outputs": [],
   "source": [
    "# Algorithm for counting number of iterations\n",
    "def bubble_sort_counting(v):\n",
    "    counting = 0\n",
    "    while True:\n",
    "        swaps = 0\n",
    "        n = len(vector)\n",
    "        for j in range(0, n -1):\n",
    "            if v[j] > v[j+1]:\n",
    "                v[j], v[j+1] = swap(v[j], v[j+1])\n",
    "                swaps += 1\n",
    "            counting += 1\n",
    "        if swaps == 0:\n",
    "            break\n",
    "        n -= 1\n",
    "    return counting"
   ]
  },
  {
   "cell_type": "code",
   "execution_count": 8,
   "metadata": {
    "hideCode": false,
    "hidePrompt": false,
    "scrolled": true
   },
   "outputs": [],
   "source": [
    "n_max = 100\n",
    "n_list = list()\n",
    "i_list = list()\n",
    "for j in range(1, n_max + 1):\n",
    "    n = random.randint(1,n_max+1)\n",
    "    vector = random.sample(range(1,n+1), n)\n",
    "    i = bubble_sort_counting(vector)\n",
    "    n_list.append(n)\n",
    "    i_list.append(i)"
   ]
  },
  {
   "cell_type": "markdown",
   "metadata": {
    "hideCode": false,
    "hidePrompt": false
   },
   "source": [
    "Here a graph that show how the bubble_sort complexity evolve for a range of vectors. In this example I have run on my machine a pseudo-randomizated a hundred vectors of random length and random values both as follow : random lenght settled  to a max one hundred elements and random values settled in the range $[1,100]$ in a random sequence. **Each point represent a single vector** where the *x- coordinates* represents the the vector length (number of elements), the *y-coordinates*  represents the number of iteration reached by bubble sort to get it sorted"
   ]
  },
  {
   "cell_type": "code",
   "execution_count": 9,
   "metadata": {
    "hideCode": false,
    "hidePrompt": false
   },
   "outputs": [
    {
     "data": {
      "image/png": "[encoded data removed]",
      "text/plain": [
       "<matplotlib.figure.Figure at 0x2a9b1355c50>"
      ]
     },
     "metadata": {},
     "output_type": "display_data"
    }
   ],
   "source": [
    "plt.scatter(n_list, i_list)\n",
    "plt.show()"
   ]
  },
  {
   "cell_type": "markdown",
   "metadata": {
    "hideCode": false,
    "hidePrompt": false
   },
   "source": [
    "The set of points that represents the vectors show up something for sure: on average bubble sort works as an $O(n^2)$ sorting method because it seams following not a straight line as an $O(n)$ funciton does.\n",
    "\n",
    "Here the following graph summarize the total set of points in a linear funciton, thanks to the interpolation method, where we use a polinome of second degree to show up a line the represent : \n",
    "> How much the computational cost rise compared to the number of elements to be sorted"
   ]
  },
  {
   "cell_type": "code",
   "execution_count": 10,
   "metadata": {
    "hideCode": false,
    "hidePrompt": false
   },
   "outputs": [
    {
     "data": {
      "image/png": "[encoded data removed]",
      "text/plain": [
       "<matplotlib.figure.Figure at 0x2a9b15650b8>"
      ]
     },
     "metadata": {},
     "output_type": "display_data"
    }
   ],
   "source": [
    "p = np.poly1d(np.polyfit(n_list, i_list, 2))\n",
    "xp = np.linspace(0, max(n_list))\n",
    "plt.plot(xp, p(xp))\n",
    "plt.show()"
   ]
  },
  {
   "cell_type": "markdown",
   "metadata": {
    "hideCode": false,
    "hidePrompt": false
   },
   "source": [
    "Note how big the number of iteration becomes bigger aroung sorted vectors of 100 elements: more than 8000 iterations"
   ]
  },
  {
   "cell_type": "markdown",
   "metadata": {
    "collapsed": true,
    "hideCode": false,
    "hidePrompt": false
   },
   "source": [
    "## Quick sort\n",
    "The idea is to pick an element $v_p \\in V$ as a *pivot* and recursively apply the algorithm as follow :\n",
    "$$ {P_1, P_2} \\quad \\textit{partitions of} \\quad V \\quad \\| \\quad \\forall v_i \\in P_1 : v_i < v_p, \\forall v_j \\in P_2 : v_p < v_j$$"
   ]
  },
  {
   "cell_type": "code",
   "execution_count": 11,
   "metadata": {
    "hideCode": false,
    "hidePrompt": false
   },
   "outputs": [],
   "source": [
    "# DEFINITION\n",
    "def quick_sort(V, i, j):\n",
    "    if i < j:\n",
    "        p = partition(V, i, j)\n",
    "        quick_sort(V, i, p - 1)\n",
    "        quick_sort(V, p + 1, j)\n",
    "\n",
    "def partition(V, i, j):\n",
    "    p = V[j]\n",
    "    small = i - 1\n",
    "    for k in range(i, j):\n",
    "        if V[k] <= p:\n",
    "            small += 1\n",
    "            V[k], V[small] = swap(V[k], V[small])\n",
    "    \n",
    "    V[j], V[small+1] = swap(V[j], V[small+1])\n",
    "    return small + 1"
   ]
  },
  {
   "cell_type": "markdown",
   "metadata": {
    "hideCode": false,
    "hidePrompt": false
   },
   "source": [
    "Quick sort has an $O(n \\  log(n))$ complexity, lets find out getting throw my machine data and plot the graph"
   ]
  },
  {
   "cell_type": "code",
   "execution_count": 12,
   "metadata": {
    "hideCode": false,
    "hidePrompt": false
   },
   "outputs": [],
   "source": [
    "# QUICK SORT WITH COUNTING\n",
    "def quick_sort_counting(V, i, j):\n",
    "    count = 0\n",
    "    if i < j:\n",
    "        p, count = partition(V, i, j)\n",
    "        count += quick_sort_counting(V, i, p - 1)\n",
    "        count += quick_sort_counting(V, p + 1, j)\n",
    "    return count\n",
    "\n",
    "def partition(V, i, j):\n",
    "    count = 0\n",
    "    p = V[j]\n",
    "    small = i - 1\n",
    "    for k in range(i, j):\n",
    "        if V[k] <= p:\n",
    "            small += 1\n",
    "            V[k], V[small] = swap(V[k], V[small])\n",
    "        count += 1\n",
    "    \n",
    "    V[j], V[small+1] = swap(V[j], V[small+1])\n",
    "    return small + 1, count"
   ]
  },
  {
   "cell_type": "code",
   "execution_count": 13,
   "metadata": {
    "hideCode": false,
    "hidePrompt": false
   },
   "outputs": [
    {
     "data": {
      "image/png": "[encoded data removed]",
      "text/plain": [
       "<matplotlib.figure.Figure at 0x2a9b183cc18>"
      ]
     },
     "metadata": {},
     "output_type": "display_data"
    }
   ],
   "source": [
    "n_max = 100\n",
    "n_list = list()\n",
    "i_list = list()\n",
    "for j in range(1, n_max + 1):\n",
    "    n = random.randint(1,n_max+1)\n",
    "    V = random.sample(range(1,n+1), n)\n",
    "    i = quick_sort_counting(V, 0, len(V)-1 )\n",
    "    n_list.append(n)\n",
    "    i_list.append(i)\n",
    "#p = np.poly1d(np.polyfit(n_list, i_list, 2))\n",
    "xp = np.linspace(0.01, max(n_list))\n",
    "#plt.plot(xp, p(xp), '-r')\n",
    "plt.plot(xp, xp * np.log2(xp) , '-r')\n",
    "plt.scatter(n_list, i_list)\n",
    "plt.show()"
   ]
  },
  {
   "cell_type": "markdown",
   "metadata": {
    "hideCode": false,
    "hidePrompt": false
   },
   "source": [
    "As before the dots represents random-generated vectors sorted by quick sort algorithm where has coordinates : (*vector length*, *number of iterations done to be sorted*). The **red line** is the logarithmic function : $ p(n) = n \\log_2 (n)$. As you can see $p(n)$ does fit pretty well all the dots, so we can say pretty sure that: \n",
    "> quick sort algorithm follows on average a $O(n \\log(n) )$ complessity."
   ]
  },
  {
   "cell_type": "markdown",
   "metadata": {
    "hideCode": false,
    "hidePrompt": false
   },
   "source": [
    "## Merge sort\n",
    "It applys recursively a merging between 2 sorted vectors from the original one. Recursively it divide the vector in 2 parts until it cannot be divide any further when the vector has length 1. For each function call it digs into the very last smaller vector of one element where for definition it is already sorted, than on the first return callback merge 2 vectors of only one elements into a sorted vector of two elements and so on. "
   ]
  },
  {
   "cell_type": "code",
   "execution_count": 14,
   "metadata": {
    "hideCode": false,
    "hidePrompt": false
   },
   "outputs": [],
   "source": [
    "def merge_sort(V):\n",
    "    if len(V) == 1:\n",
    "        return V\n",
    "    result = []\n",
    "    mid = int(len(V) / 2)\n",
    "    y = merge_sort(V[:mid])\n",
    "    z = merge_sort(V[mid:])\n",
    "    i = 0\n",
    "    j = 0\n",
    "    while i < len(y) and j < len(z):\n",
    "        if y[i] > z[j]:\n",
    "            result.append(z[j])\n",
    "            j += 1\n",
    "        else:\n",
    "            result.append(y[i])\n",
    "            i += 1\n",
    "    result += y[i:]\n",
    "    result += z[j:]\n",
    "    return result"
   ]
  },
  {
   "cell_type": "markdown",
   "metadata": {
    "hideCode": false,
    "hidePrompt": false
   },
   "source": [
    "Lets generate 100 vectors to be merge-sorted and counting iteration, what kind of complexity is going to show and witch function best fit all th evectors ?"
   ]
  },
  {
   "cell_type": "code",
   "execution_count": 15,
   "metadata": {
    "hideCode": false,
    "hidePrompt": false
   },
   "outputs": [],
   "source": [
    "# merge sort counting\n",
    "def merge_sort_counting(V):\n",
    "    count = 0\n",
    "    if len(V) == 1:\n",
    "        count += 1\n",
    "        return V, count\n",
    "    result = []\n",
    "    mid = int(len(V) / 2)\n",
    "    y, c1 = merge_sort_counting(V[:mid])\n",
    "    z, c2 = merge_sort_counting(V[mid:])\n",
    "    count += c1 + c2\n",
    "    i = 0\n",
    "    j = 0\n",
    "    while i < len(y) and j < len(z):\n",
    "        if y[i] > z[j]:\n",
    "            result.append(z[j])\n",
    "            j += 1\n",
    "        else:\n",
    "            result.append(y[i])\n",
    "            i += 1\n",
    "        count += 1\n",
    "    result += y[i:]\n",
    "    result += z[j:]\n",
    "    count += (len(y) - i) + (len(z) - j)\n",
    "    return result, count"
   ]
  },
  {
   "cell_type": "code",
   "execution_count": 16,
   "metadata": {
    "hideCode": false,
    "hidePrompt": false
   },
   "outputs": [
    {
     "data": {
      "image/png": "[encoded data removed]",
      "text/plain": [
       "<matplotlib.figure.Figure at 0x2a9b1868940>"
      ]
     },
     "metadata": {},
     "output_type": "display_data"
    }
   ],
   "source": [
    "n_max = 100\n",
    "n_list = list()\n",
    "i_list = list()\n",
    "for j in range(1, n_max + 1):\n",
    "    n = random.randint(1,n_max+1)\n",
    "    V = random.sample(range(1,n+1), n)\n",
    "    V, i = merge_sort_counting(V)\n",
    "    n_list.append(n)\n",
    "    i_list.append(i)\n",
    "#p = np.poly1d(np.polyfit(n_list, i_list, 2))\n",
    "xp = np.linspace(0.1, max(n_list))\n",
    "#plt.plot(xp, p(xp), '-r')\n",
    "plt.plot(xp, xp * ( np.log(xp)/np.log(1.8) ), 'r-')\n",
    "plt.scatter(n_list, i_list)\n",
    "plt.show()"
   ]
  },
  {
   "cell_type": "markdown",
   "metadata": {
    "hideCode": false,
    "hidePrompt": false
   },
   "source": [
    "The first noty thing is *dots are really close together*, so the average complessity could be overlapped with the worst case. The red line I have fitted inside is the function :\n",
    "$$ c(x) = x \\log_{1.8}(x) $$\n",
    "As the worst case and average case are so close to together it is not wrong to say that *merge-sort* is a very stable algorithm almost indipendent from the initial state of the vector."
   ]
  },
  {
   "cell_type": "markdown",
   "metadata": {
    "collapsed": true,
    "hideCode": false,
    "hidePrompt": false
   },
   "source": [
    "There are some other sorting algorithms and other with variants using specific data structure. There some noty data structure very usefull for a very big number of tasks in any system or enviroment that involve data manipulation, that so means involving for definition computer science or more and more in general a f\\...ing *Turing Machine* "
   ]
  }
 ],
 "metadata": {
  "hide_code_all_hidden": false,
  "kernelspec": {
   "display_name": "Python 3",
   "language": "python",
   "name": "python3"
  },
  "language_info": {
   "codemirror_mode": {
    "name": "ipython",
    "version": 3
   },
   "file_extension": ".py",
   "mimetype": "text/x-python",
   "name": "python",
   "nbconvert_exporter": "python",
   "pygments_lexer": "ipython3",
   "version": "3.6.1"
  },
  "widgets": {
   "application/vnd.jupyter.widget-state+json": {
    "state": {},
    "version_major": 1,
    "version_minor": 0
   }
  }
 },
 "nbformat": 4,
 "nbformat_minor": 2
}
